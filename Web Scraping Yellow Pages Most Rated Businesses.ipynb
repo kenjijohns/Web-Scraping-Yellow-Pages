{
 "cells": [
  {
   "cell_type": "code",
   "execution_count": 1,
   "metadata": {},
   "outputs": [],
   "source": [
    "import requests\n",
    "import time\n",
    "import csv\n",
    "import re\n",
    "from bs4 import BeautifulSoup\n",
    "import pandas as pd"
   ]
  },
  {
   "cell_type": "code",
   "execution_count": 9,
   "metadata": {},
   "outputs": [],
   "source": [
    "# initialize list to store scraped data \n",
    "main_list =[]\n",
    "\n",
    "# function to extract an html page \n",
    "def extract(url): \n",
    "    headers = {\"User-Agent\": \"Mozilla/5.0 (Windows NT 10.0; Win64; x64) AppleWebKit/537.36 (KHTML, like Gecko) Chrome/109.0.0.0 Safari/537.36\"}\n",
    "    r= requests.get(url, headers = headers)\n",
    "    soup = BeautifulSoup(r.content, 'html.parser')\n",
    "    return soup.find_all('div', class_='search-listing')"
   ]
  },
  {
   "cell_type": "code",
   "execution_count": 11,
   "metadata": {},
   "outputs": [],
   "source": [
    "# function to get business name, address, phone number, and rating for each page\n",
    "def get_details(search_page):\n",
    "    \n",
    "    for search_listing in search_page:\n",
    "        # get rating of each business\n",
    "        rating = search_listing.find ('div', class_ = 'search-rating-container').text.strip().replace('\\n','')#.strip() funtion to remove unnecessary end lines\n",
    "        \n",
    "            \n",
    "        # REG EX Application\n",
    "        if re.findall(\"^[1-5]\", rating): # Only get businesses with 1 - 5 rating \n",
    "            business_name = search_listing.find ('h2', class_='search-tradename').text.strip().replace('\\n','') \n",
    "            address = search_listing.find ('div', class_='search-busines-address').text.strip().replace('\\n','')\n",
    "            try:\n",
    "                phone_number = search_listing.find ('a', class_ = 'btn btn-yp-default mr-2 biz-btn-call yp-click')['data-phone']\n",
    "            except:\n",
    "                phone_number =''\n",
    "                    \n",
    "            business_url = \"https://www.yellow-pages.ph\"+ search_listing.find(\"a\", class_='yp-click')['href'] +\"/reviews\"\n",
    "            \n",
    "            # Extract Review page of business\n",
    "            try:\n",
    "                headers = {\"User-Agent\": \"Mozilla/5.0 (Windows NT 10.0; Win64; x64) AppleWebKit/537.36 (KHTML, like Gecko) Chrome/109.0.0.0 Safari/537.36\"}\n",
    "                r= requests.get(business_url, verify=False)\n",
    "                soup = BeautifulSoup(r.content, 'html.parser')\n",
    "                review_page = soup.find_all('div', class_='yp-review-container')\n",
    "                for content in review_page:\n",
    "                    review= content.find('p', class_= None).text\n",
    "    \n",
    "            except:\n",
    "                review = \" \"\n",
    "            \n",
    "            # store values in a dictionary and to the main_list[] list   \n",
    "            business = {\n",
    "                'Business name' : business_name,\n",
    "                'Address': address,\n",
    "                'Phone Number': phone_number,\n",
    "                'Rating': rating,\n",
    "                'Url' : business_url,\n",
    "                'Review': review\n",
    "                }\n",
    "            main_list.append(business)\n",
    "                    \n",
    "        else:\n",
    "            print (\"no rating found on business\")\n",
    "      \n",
    "    return\n",
    "        "
   ]
  },
  {
   "cell_type": "code",
   "execution_count": 12,
   "metadata": {},
   "outputs": [
    {
     "name": "stdout",
     "output_type": "stream",
     "text": [
      "Getting page 1\n",
      "Getting page 2\n",
      "Getting page 3\n",
      "Getting page 4\n",
      "Getting page 5\n",
      "Getting page 6\n",
      "Getting page 7\n",
      "Getting page 8\n",
      "Saved to CSV\n"
     ]
    }
   ],
   "source": [
    "def load():\n",
    "    df = pd.DataFrame(main_list)\n",
    "    df.to_csv('Manila Businesses Most Rated.csv', index=False)\n",
    "\n",
    "for x in range(1,9):\n",
    "    print(f'Getting page {x}')\n",
    "    search_page = extract(f'https://www.yellow-pages.ph/search/business/metro-manila/page-{x}?sort=most-rated')\n",
    "    get_details(search_page)\n",
    "    time.sleep(5)\n",
    "    \n",
    "load()\n",
    "print('Saved to CSV')"
   ]
  },
  {
   "cell_type": "code",
   "execution_count": 7,
   "metadata": {},
   "outputs": [],
   "source": [
    "del main_list"
   ]
  }
 ],
 "metadata": {
  "kernelspec": {
   "display_name": "base",
   "language": "python",
   "name": "python3"
  },
  "language_info": {
   "codemirror_mode": {
    "name": "ipython",
    "version": 3
   },
   "file_extension": ".py",
   "mimetype": "text/x-python",
   "name": "python",
   "nbconvert_exporter": "python",
   "pygments_lexer": "ipython3",
   "version": "3.9.13"
  },
  "orig_nbformat": 4,
  "vscode": {
   "interpreter": {
    "hash": "12c36d9ade805fafc38be10c33f9d3c9bce8d73780f9146b94990265007f1653"
   }
  }
 },
 "nbformat": 4,
 "nbformat_minor": 2
}
